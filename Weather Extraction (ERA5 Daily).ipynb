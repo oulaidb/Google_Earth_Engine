{
 "cells": [
  {
   "cell_type": "markdown",
   "id": "97ae2892",
   "metadata": {},
   "source": [
    "# **1. About the Dataset**"
   ]
  },
  {
   "cell_type": "markdown",
   "id": "5d5fea40",
   "metadata": {},
   "source": [
    "##### ERA5"
   ]
  },
  {
   "cell_type": "raw",
   "id": "ba8986ed",
   "metadata": {},
   "source": [
    "The fifth iteration of the ECMWF reanalysis, provides comprehensive data on global climate and weather spanning the last eight decades, with information accessible from 1940 onwards.\n",
    "Resolution: 27830 meters\n",
    "Reference: https://confluence.ecmwf.int/display/CKB/ERA5%3A+data+documentation"
   ]
  },
  {
   "cell_type": "markdown",
   "id": "f1a37808",
   "metadata": {},
   "source": [
    "# **2. Get Weather Data**"
   ]
  },
  {
   "cell_type": "code",
   "execution_count": 4,
   "id": "69e03256",
   "metadata": {},
   "outputs": [],
   "source": [
    "import pandas as pd \n",
    "import numpy as np \n",
    "import seaborn as sns \n",
    "import matplotlib.pyplot as plt\n",
    "import ee"
   ]
  },
  {
   "cell_type": "code",
   "execution_count": 9,
   "id": "02fec95d",
   "metadata": {},
   "outputs": [
    {
     "data": {
      "text/plain": [
       "True"
      ]
     },
     "execution_count": 9,
     "metadata": {},
     "output_type": "execute_result"
    }
   ],
   "source": [
    "# GEE Authentification\n",
    "ee.Authenticate()"
   ]
  },
  {
   "cell_type": "code",
   "execution_count": 10,
   "id": "8b5fbfa6",
   "metadata": {},
   "outputs": [],
   "source": [
    "#GEE initialization\n",
    "ee.Initialize()"
   ]
  },
  {
   "cell_type": "code",
   "execution_count": 39,
   "id": "ea272015",
   "metadata": {},
   "outputs": [],
   "source": [
    "def extract_weather(coords,sd,ed):\n",
    "\n",
    "    era5 = ee.ImageCollection(\"ECMWF/ERA5/DAILY\")\n",
    "    # Coords\n",
    "    site = ee.Geometry.Polygon(coords).centroid()\n",
    "    weather_collection =  era5.filterBounds(site).filterDate(sd,ed).select(['minimum_2m_air_temperature','maximum_2m_air_temperature','total_precipitation'])\n",
    "    # From Image collection to Image\n",
    "    weather_results = []\n",
    "    for i in range(weather_collection.size().getInfo()):\n",
    "        weather_image = ee.Image(weather_collection.toList(weather_collection.size()).get(i))\n",
    "        #Reduce the Weather Image\n",
    "        mean_weather_image = weather_image.reduceRegion(\n",
    "            reducer = ee.Reducer.mean(),\n",
    "            geometry = site,\n",
    "            scale = 27830\n",
    "        )\n",
    "        #Transfrom the image to Dataframe\n",
    "        mean_weather_df = mean_weather_image.getInfo()\n",
    "        # Get datetime from the image\n",
    "        date_str = weather_image.date().format('YYYY-MM-dd').getInfo()\n",
    "        date_time_weather_image = pd.to_datetime(date_str)\n",
    "        \n",
    "        # Store the data into the results list\n",
    "        weather_results.append({\n",
    "            'datetime': date_time_weather_image ,\n",
    "            'Tmin(C)':   mean_weather_df.get('minimum_2m_air_temperature'),\n",
    "            'Tmax(C)':   mean_weather_df.get('maximum_2m_air_temperature')   ,\n",
    "            'Prcp(mm)':  mean_weather_df.get('total_precipitation') \n",
    "        })\n",
    "        \n",
    "\n",
    "    weather_data = pd.DataFrame(weather_results)\n",
    "    weather_data['Tmin(C)'] = weather_data['Tmin(C)'] -273.15  \n",
    "    weather_data['Tmax(C)'] = weather_data['Tmax(C)']-273.15 \n",
    "    weather_data['Prcp(mm)'] = weather_data['Prcp(mm)']*1000\n",
    "\n",
    "    return weather_data\n",
    "        \n",
    "        \n",
    "\n",
    "    \n",
    "\n",
    "    "
   ]
  },
  {
   "cell_type": "markdown",
   "id": "34c51358",
   "metadata": {},
   "source": [
    "# **3. Example** "
   ]
  },
  {
   "cell_type": "code",
   "execution_count": 41,
   "id": "bed4bada",
   "metadata": {},
   "outputs": [
    {
     "data": {
      "text/html": [
       "<div>\n",
       "<style scoped>\n",
       "    .dataframe tbody tr th:only-of-type {\n",
       "        vertical-align: middle;\n",
       "    }\n",
       "\n",
       "    .dataframe tbody tr th {\n",
       "        vertical-align: top;\n",
       "    }\n",
       "\n",
       "    .dataframe thead th {\n",
       "        text-align: right;\n",
       "    }\n",
       "</style>\n",
       "<table border=\"1\" class=\"dataframe\">\n",
       "  <thead>\n",
       "    <tr style=\"text-align: right;\">\n",
       "      <th></th>\n",
       "      <th>datetime</th>\n",
       "      <th>Tmin(C)</th>\n",
       "      <th>Tmax(C)</th>\n",
       "      <th>Prcp(mm)</th>\n",
       "    </tr>\n",
       "  </thead>\n",
       "  <tbody>\n",
       "    <tr>\n",
       "      <th>0</th>\n",
       "      <td>2010-01-01</td>\n",
       "      <td>8.232416</td>\n",
       "      <td>15.556512</td>\n",
       "      <td>0.271402</td>\n",
       "    </tr>\n",
       "    <tr>\n",
       "      <th>1</th>\n",
       "      <td>2010-01-02</td>\n",
       "      <td>5.897089</td>\n",
       "      <td>19.656122</td>\n",
       "      <td>0.000000</td>\n",
       "    </tr>\n",
       "    <tr>\n",
       "      <th>2</th>\n",
       "      <td>2010-01-03</td>\n",
       "      <td>7.718256</td>\n",
       "      <td>21.024469</td>\n",
       "      <td>0.002313</td>\n",
       "    </tr>\n",
       "    <tr>\n",
       "      <th>3</th>\n",
       "      <td>2010-01-04</td>\n",
       "      <td>8.233942</td>\n",
       "      <td>20.103357</td>\n",
       "      <td>1.062382</td>\n",
       "    </tr>\n",
       "    <tr>\n",
       "      <th>4</th>\n",
       "      <td>2010-01-05</td>\n",
       "      <td>11.257776</td>\n",
       "      <td>16.051233</td>\n",
       "      <td>1.452392</td>\n",
       "    </tr>\n",
       "    <tr>\n",
       "      <th>...</th>\n",
       "      <td>...</td>\n",
       "      <td>...</td>\n",
       "      <td>...</td>\n",
       "      <td>...</td>\n",
       "    </tr>\n",
       "    <tr>\n",
       "      <th>359</th>\n",
       "      <td>2010-12-26</td>\n",
       "      <td>9.447076</td>\n",
       "      <td>18.244348</td>\n",
       "      <td>0.122514</td>\n",
       "    </tr>\n",
       "    <tr>\n",
       "      <th>360</th>\n",
       "      <td>2010-12-27</td>\n",
       "      <td>6.939020</td>\n",
       "      <td>21.185663</td>\n",
       "      <td>0.000000</td>\n",
       "    </tr>\n",
       "    <tr>\n",
       "      <th>361</th>\n",
       "      <td>2010-12-28</td>\n",
       "      <td>9.129236</td>\n",
       "      <td>23.032922</td>\n",
       "      <td>0.000000</td>\n",
       "    </tr>\n",
       "    <tr>\n",
       "      <th>362</th>\n",
       "      <td>2010-12-29</td>\n",
       "      <td>8.742548</td>\n",
       "      <td>24.557153</td>\n",
       "      <td>0.000000</td>\n",
       "    </tr>\n",
       "    <tr>\n",
       "      <th>363</th>\n",
       "      <td>2010-12-30</td>\n",
       "      <td>8.471307</td>\n",
       "      <td>19.264642</td>\n",
       "      <td>0.000000</td>\n",
       "    </tr>\n",
       "  </tbody>\n",
       "</table>\n",
       "<p>364 rows × 4 columns</p>\n",
       "</div>"
      ],
      "text/plain": [
       "      datetime    Tmin(C)    Tmax(C)  Prcp(mm)\n",
       "0   2010-01-01   8.232416  15.556512  0.271402\n",
       "1   2010-01-02   5.897089  19.656122  0.000000\n",
       "2   2010-01-03   7.718256  21.024469  0.002313\n",
       "3   2010-01-04   8.233942  20.103357  1.062382\n",
       "4   2010-01-05  11.257776  16.051233  1.452392\n",
       "..         ...        ...        ...       ...\n",
       "359 2010-12-26   9.447076  18.244348  0.122514\n",
       "360 2010-12-27   6.939020  21.185663  0.000000\n",
       "361 2010-12-28   9.129236  23.032922  0.000000\n",
       "362 2010-12-29   8.742548  24.557153  0.000000\n",
       "363 2010-12-30   8.471307  19.264642  0.000000\n",
       "\n",
       "[364 rows x 4 columns]"
      ]
     },
     "execution_count": 41,
     "metadata": {},
     "output_type": "execute_result"
    }
   ],
   "source": [
    "coordinates =[[[-7.608118848227721,31.658398246914924],\n",
    "               [-7.608977155112484,31.65901924150963],\n",
    "               [-7.611187295340757,31.656644828010087],\n",
    "               [-7.610328988455992,31.656115142875652],\n",
    "               [-7.608118848227721,31.658398246914924]]]\n",
    "start_date = '2010-01-01'\n",
    "end_date = '2010-12-31'\n",
    "weather = extract_weather(coordinates, start_date, end_date)\n",
    "weather\n"
   ]
  },
  {
   "cell_type": "code",
   "execution_count": 47,
   "id": "be9465e6",
   "metadata": {},
   "outputs": [
    {
     "data": {
      "text/html": [
       "<div>\n",
       "<style scoped>\n",
       "    .dataframe tbody tr th:only-of-type {\n",
       "        vertical-align: middle;\n",
       "    }\n",
       "\n",
       "    .dataframe tbody tr th {\n",
       "        vertical-align: top;\n",
       "    }\n",
       "\n",
       "    .dataframe thead th {\n",
       "        text-align: right;\n",
       "    }\n",
       "</style>\n",
       "<table border=\"1\" class=\"dataframe\">\n",
       "  <thead>\n",
       "    <tr style=\"text-align: right;\">\n",
       "      <th></th>\n",
       "      <th>Tmin(C)</th>\n",
       "      <th>Tmax(C)</th>\n",
       "      <th>Prcp(mm)</th>\n",
       "    </tr>\n",
       "  </thead>\n",
       "  <tbody>\n",
       "    <tr>\n",
       "      <th>count</th>\n",
       "      <td>364.000000</td>\n",
       "      <td>364.000000</td>\n",
       "      <td>364.000000</td>\n",
       "    </tr>\n",
       "    <tr>\n",
       "      <th>mean</th>\n",
       "      <td>14.315308</td>\n",
       "      <td>26.856316</td>\n",
       "      <td>0.939025</td>\n",
       "    </tr>\n",
       "    <tr>\n",
       "      <th>std</th>\n",
       "      <td>5.341294</td>\n",
       "      <td>7.349318</td>\n",
       "      <td>2.896639</td>\n",
       "    </tr>\n",
       "    <tr>\n",
       "      <th>min</th>\n",
       "      <td>2.431573</td>\n",
       "      <td>10.936578</td>\n",
       "      <td>0.000000</td>\n",
       "    </tr>\n",
       "    <tr>\n",
       "      <th>25%</th>\n",
       "      <td>10.091982</td>\n",
       "      <td>21.215189</td>\n",
       "      <td>0.000000</td>\n",
       "    </tr>\n",
       "    <tr>\n",
       "      <th>50%</th>\n",
       "      <td>13.448846</td>\n",
       "      <td>26.286676</td>\n",
       "      <td>0.006545</td>\n",
       "    </tr>\n",
       "    <tr>\n",
       "      <th>75%</th>\n",
       "      <td>18.585466</td>\n",
       "      <td>32.132295</td>\n",
       "      <td>0.567473</td>\n",
       "    </tr>\n",
       "    <tr>\n",
       "      <th>max</th>\n",
       "      <td>27.340936</td>\n",
       "      <td>44.517969</td>\n",
       "      <td>38.290560</td>\n",
       "    </tr>\n",
       "  </tbody>\n",
       "</table>\n",
       "</div>"
      ],
      "text/plain": [
       "          Tmin(C)     Tmax(C)    Prcp(mm)\n",
       "count  364.000000  364.000000  364.000000\n",
       "mean    14.315308   26.856316    0.939025\n",
       "std      5.341294    7.349318    2.896639\n",
       "min      2.431573   10.936578    0.000000\n",
       "25%     10.091982   21.215189    0.000000\n",
       "50%     13.448846   26.286676    0.006545\n",
       "75%     18.585466   32.132295    0.567473\n",
       "max     27.340936   44.517969   38.290560"
      ]
     },
     "execution_count": 47,
     "metadata": {},
     "output_type": "execute_result"
    }
   ],
   "source": [
    " weather[['Tmin(C)','Tmax(C)','Prcp(mm)']].describe()"
   ]
  },
  {
   "cell_type": "code",
   "execution_count": null,
   "id": "1f49d1b2",
   "metadata": {},
   "outputs": [],
   "source": []
  },
  {
   "cell_type": "code",
   "execution_count": null,
   "id": "6788fcd8",
   "metadata": {},
   "outputs": [],
   "source": []
  },
  {
   "cell_type": "code",
   "execution_count": null,
   "id": "b3a952cf",
   "metadata": {},
   "outputs": [],
   "source": []
  },
  {
   "cell_type": "code",
   "execution_count": null,
   "id": "7d672695",
   "metadata": {},
   "outputs": [],
   "source": []
  },
  {
   "cell_type": "code",
   "execution_count": null,
   "id": "0d741aa4",
   "metadata": {},
   "outputs": [],
   "source": []
  },
  {
   "cell_type": "code",
   "execution_count": null,
   "id": "712ac04f",
   "metadata": {},
   "outputs": [],
   "source": []
  }
 ],
 "metadata": {
  "kernelspec": {
   "display_name": "Python 3 (ipykernel)",
   "language": "python",
   "name": "python3"
  },
  "language_info": {
   "codemirror_mode": {
    "name": "ipython",
    "version": 3
   },
   "file_extension": ".py",
   "mimetype": "text/x-python",
   "name": "python",
   "nbconvert_exporter": "python",
   "pygments_lexer": "ipython3",
   "version": "3.11.5"
  }
 },
 "nbformat": 4,
 "nbformat_minor": 5
}
