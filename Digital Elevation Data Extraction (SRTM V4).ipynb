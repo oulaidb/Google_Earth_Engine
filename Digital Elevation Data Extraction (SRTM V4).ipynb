{
 "cells": [
  {
   "cell_type": "code",
   "execution_count": 1,
   "id": "a88fdf50",
   "metadata": {},
   "outputs": [],
   "source": [
    "import pandas as pd \n",
    "import numpy as np \n",
    "import seaborn as sns \n",
    "import matplotlib.pyplot as plt\n",
    "import ee"
   ]
  },
  {
   "cell_type": "code",
   "execution_count": 2,
   "id": "c457f278",
   "metadata": {},
   "outputs": [],
   "source": [
    "#GEE initialization\n",
    "ee.Initialize()"
   ]
  },
  {
   "cell_type": "markdown",
   "id": "5480509b",
   "metadata": {},
   "source": [
    "# **Citation**"
   ]
  },
  {
   "cell_type": "raw",
   "id": "ce6231bc",
   "metadata": {},
   "source": [
    "Jarvis, A., H.I. Reuter, A. Nelson, E. Guevara. 2008. Hole-filled SRTM for the globe Version 4, available from the CGIAR-CSI SRTM 90m Database: https://srtm.csi.cgiar.org."
   ]
  },
  {
   "cell_type": "markdown",
   "id": "b3060e73",
   "metadata": {},
   "source": [
    "# **Getting elevation and Slope**"
   ]
  },
  {
   "cell_type": "code",
   "execution_count": 3,
   "id": "19aa35d7",
   "metadata": {},
   "outputs": [],
   "source": [
    "def getElevationSlope(coords):\n",
    "    srtm = ee.Image('CGIAR/SRTM90_V4')\n",
    "    site = ee.Geometry.Polygon(coords)\n",
    "    #Clipping the Image to our site \n",
    "    srtm_clipped = srtm.clip(site)\n",
    "    # Getting  the elevation \n",
    "    srtm_reduced = srtm_clipped.reduceRegion(\n",
    "        reducer = ee.Reducer.mean(),\n",
    "        geometry = site,\n",
    "        scale = 90 \n",
    "    )\n",
    "    elevation = srtm_reduced.get('elevation').getInfo()\n",
    "    #Getting the slope\n",
    "    slope = ee.Terrain.slope(srtm_clipped)\n",
    "    slope = slope.reduceRegion(\n",
    "        reducer = ee.Reducer.mean(),\n",
    "        geometry = site,\n",
    "        scale = 90 \n",
    "    )\n",
    "    slope = slope.get('slope').getInfo()\n",
    "    return elevation,slope\n",
    "    \n",
    "    \n",
    "    "
   ]
  },
  {
   "cell_type": "markdown",
   "id": "d2f88d96",
   "metadata": {},
   "source": [
    "# **Example**"
   ]
  },
  {
   "cell_type": "code",
   "execution_count": 4,
   "id": "199db42a",
   "metadata": {},
   "outputs": [
    {
     "name": "stdout",
     "output_type": "stream",
     "text": [
      "Elevation: 31.262389611672887 meters\n",
      "Slope: 31.262389611672887 degrees\n"
     ]
    }
   ],
   "source": [
    "coordinates = [[-13.0, 8.0], [-13.0, 8.5], [-12.5, 8.5], [-12.5, 8.0]]\n",
    "result = getElevationSlope(coordinates)\n",
    "print('Elevation:',result[0],'meters')\n",
    "print('Slope:',result[0],'degrees')\n"
   ]
  },
  {
   "cell_type": "code",
   "execution_count": null,
   "id": "4712ec30",
   "metadata": {},
   "outputs": [],
   "source": []
  },
  {
   "cell_type": "code",
   "execution_count": null,
   "id": "48c33d58",
   "metadata": {},
   "outputs": [],
   "source": []
  },
  {
   "cell_type": "code",
   "execution_count": null,
   "id": "5c50e834",
   "metadata": {},
   "outputs": [],
   "source": []
  },
  {
   "cell_type": "code",
   "execution_count": null,
   "id": "b7d018ef",
   "metadata": {},
   "outputs": [],
   "source": []
  },
  {
   "cell_type": "code",
   "execution_count": null,
   "id": "2763bd98",
   "metadata": {},
   "outputs": [],
   "source": []
  },
  {
   "cell_type": "code",
   "execution_count": null,
   "id": "7194391e",
   "metadata": {},
   "outputs": [],
   "source": []
  },
  {
   "cell_type": "code",
   "execution_count": null,
   "id": "e0e14b93",
   "metadata": {},
   "outputs": [],
   "source": []
  },
  {
   "cell_type": "code",
   "execution_count": null,
   "id": "e9917bc0",
   "metadata": {},
   "outputs": [],
   "source": []
  },
  {
   "cell_type": "code",
   "execution_count": null,
   "id": "bde1d455",
   "metadata": {},
   "outputs": [],
   "source": []
  },
  {
   "cell_type": "code",
   "execution_count": null,
   "id": "f7dae1f2",
   "metadata": {},
   "outputs": [],
   "source": []
  },
  {
   "cell_type": "code",
   "execution_count": null,
   "id": "e9b832c7",
   "metadata": {},
   "outputs": [],
   "source": []
  },
  {
   "cell_type": "code",
   "execution_count": null,
   "id": "9a89c2e8",
   "metadata": {},
   "outputs": [],
   "source": []
  },
  {
   "cell_type": "code",
   "execution_count": null,
   "id": "c8b76b13",
   "metadata": {},
   "outputs": [],
   "source": []
  },
  {
   "cell_type": "code",
   "execution_count": null,
   "id": "5579ed83",
   "metadata": {},
   "outputs": [],
   "source": []
  }
 ],
 "metadata": {
  "kernelspec": {
   "display_name": "Python 3 (ipykernel)",
   "language": "python",
   "name": "python3"
  },
  "language_info": {
   "codemirror_mode": {
    "name": "ipython",
    "version": 3
   },
   "file_extension": ".py",
   "mimetype": "text/x-python",
   "name": "python",
   "nbconvert_exporter": "python",
   "pygments_lexer": "ipython3",
   "version": "3.11.5"
  }
 },
 "nbformat": 4,
 "nbformat_minor": 5
}
