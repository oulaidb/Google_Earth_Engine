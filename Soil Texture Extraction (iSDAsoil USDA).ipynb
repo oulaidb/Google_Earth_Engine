{
 "cells": [
  {
   "cell_type": "code",
   "execution_count": 1,
   "id": "3826d573",
   "metadata": {},
   "outputs": [],
   "source": [
    "import pandas as pd \n",
    "import numpy as np \n",
    "import seaborn as sns \n",
    "import matplotlib.pyplot as plt\n",
    "import ee"
   ]
  },
  {
   "cell_type": "code",
   "execution_count": 2,
   "id": "cb65d751",
   "metadata": {},
   "outputs": [
    {
     "data": {
      "text/plain": [
       "True"
      ]
     },
     "execution_count": 2,
     "metadata": {},
     "output_type": "execute_result"
    }
   ],
   "source": [
    "# GEE Authentification\n",
    "ee.Authenticate()"
   ]
  },
  {
   "cell_type": "code",
   "execution_count": 3,
   "id": "7af77848",
   "metadata": {},
   "outputs": [],
   "source": [
    "#GEE initialization\n",
    "ee.Initialize()"
   ]
  },
  {
   "cell_type": "markdown",
   "id": "40668d4e",
   "metadata": {},
   "source": [
    "# **About the Dataset**"
   ]
  },
  {
   "cell_type": "raw",
   "id": "9b80f614",
   "metadata": {},
   "source": [
    "Isda Soil: USDA Texture Class for 0–20 and 20–50 cm soil depths.The predictions of soil properties have been produced at a pixel resolution of 30 m by combining remote sensing data with machine learning."
   ]
  },
  {
   "cell_type": "code",
   "execution_count": null,
   "id": "4388fee2",
   "metadata": {},
   "outputs": [],
   "source": []
  },
  {
   "cell_type": "markdown",
   "id": "ec435cb0",
   "metadata": {},
   "source": [
    "# **Soil Texture Extraction**"
   ]
  },
  {
   "cell_type": "code",
   "execution_count": 4,
   "id": "68ad1af9",
   "metadata": {},
   "outputs": [],
   "source": [
    "def getSoilTexture(coords):\n",
    "    soil_texture = ee.Image(\"ISDASOIL/Africa/v1/texture_class\")\n",
    "    site = ee.Geometry.Polygon(coords)\n",
    "    \n",
    "    # Clip the soil_texture to our site \n",
    "    soil_texture_clipped = soil_texture.clip(site)\n",
    "\n",
    "    # Reduce the soil texture Image\n",
    "    texture_value = soil_texture_clipped.reduceRegion(\n",
    "        reducer=ee.Reducer.first(),\n",
    "        geometry=site,\n",
    "        scale=30  \n",
    "    )\n",
    "    texture_value = texture_value.get(\"texture_0_20\").getInfo()\n",
    "    texture_mapping = {\n",
    "        1: 'Clay',\n",
    "        2: 'SiltClay',\n",
    "        3: 'SandyClay',\n",
    "        4: 'ClayLoam',\n",
    "        5: 'SiltClayLoam',\n",
    "        6: 'SandyClayLoam',\n",
    "        7: 'Loam',\n",
    "        8: 'SiltLoam',\n",
    "        9: 'SandyLoam',\n",
    "        10: 'Silt',\n",
    "        11: 'LoamySand',\n",
    "        12:'Sand'\n",
    "    }\n",
    "    if texture_value in texture_mapping.keys():\n",
    "        return texture_mapping[texture_value]\n",
    "    else:\n",
    "        return 'UnknownClass'\n",
    "    \n",
    "\n",
    "\n"
   ]
  },
  {
   "cell_type": "markdown",
   "id": "9a0e0aea",
   "metadata": {},
   "source": [
    "# **Example** "
   ]
  },
  {
   "cell_type": "code",
   "execution_count": 6,
   "id": "2b287794",
   "metadata": {},
   "outputs": [
    {
     "name": "stdout",
     "output_type": "stream",
     "text": [
      "Soil Texture at 0-20 cm: SandyClayLoam\n"
     ]
    }
   ],
   "source": [
    "coordinates = [[-13.0, 8.0], [-13.0, 8.5], [-12.5, 8.5], [-12.5, 8.0]]\n",
    "result = getSoilTexture(coordinates)\n",
    "print('Soil Texture at 0-20 cm:',result)"
   ]
  },
  {
   "cell_type": "code",
   "execution_count": null,
   "id": "bb146093",
   "metadata": {},
   "outputs": [],
   "source": []
  },
  {
   "cell_type": "code",
   "execution_count": null,
   "id": "6a84b0a6",
   "metadata": {},
   "outputs": [],
   "source": []
  },
  {
   "cell_type": "code",
   "execution_count": null,
   "id": "42c49bd9",
   "metadata": {},
   "outputs": [],
   "source": []
  },
  {
   "cell_type": "code",
   "execution_count": null,
   "id": "d3ce0a77",
   "metadata": {},
   "outputs": [],
   "source": []
  },
  {
   "cell_type": "code",
   "execution_count": null,
   "id": "0e4b58b4",
   "metadata": {},
   "outputs": [],
   "source": []
  }
 ],
 "metadata": {
  "kernelspec": {
   "display_name": "Python 3 (ipykernel)",
   "language": "python",
   "name": "python3"
  },
  "language_info": {
   "codemirror_mode": {
    "name": "ipython",
    "version": 3
   },
   "file_extension": ".py",
   "mimetype": "text/x-python",
   "name": "python",
   "nbconvert_exporter": "python",
   "pygments_lexer": "ipython3",
   "version": "3.11.5"
  }
 },
 "nbformat": 4,
 "nbformat_minor": 5
}
